{
 "metadata": {
  "kernelspec": {
   "display_name": ".NET (C#)",
   "language": "C#",
   "name": ".net-csharp"
  },
  "language_info": {
   "name": "C#"
  }
 },
 "cells": [
  {
   "cell_type": "markdown",
   "source": [
    "# Beskrivning\r\n",
    "I den här notebooken tänkte jag demonstrera parameter-nyckelordet `ref`, som man kan använda sig av i olika situationer. \r\n",
    "> Personligen tycker jag att det är på gränsen till en code smell att använda ref-nyckelordet. I vissa lägen kan det vara bra att använda för att t.ex. optimera minnesanvändning etc."
   ],
   "metadata": {}
  },
  {
   "cell_type": "markdown",
   "source": [
    "## Value types\r\n",
    "Exemplet nedan visar hur ref-nyckelordet påverkar hur **value types**, värdetyper, vid funktionsanrop. Funktionen `SomeIntFunction` tar in en ref till en integer, som är en värdetyp, den skriver ut värdet före multiplikation med 10 och sedan skriver den ut värdet efteråt.\r\n",
    "\r\n",
    "Nedanför funktionskroppen anropas funktionen med parametern `i = 1` och utskrift av i görs före och efter anropet.\r\n",
    "\r\n",
    "Funktionen returner ett heltal, värdet av p efter multiplikationen. Notera att returen är **värdet** av p och inte referensen. Detta gör att `var res = ...` tilldelas värdet av funktionen, helt skild från inparametern i."
   ],
   "metadata": {}
  },
  {
   "cell_type": "code",
   "execution_count": null,
   "source": [
    "public int SomeIntFunction(ref int p) \r\n",
    "{\r\n",
    "    System.Console.WriteLine(\"(ref) Before, p = \" + p);    \r\n",
    "    \r\n",
    "    p = p * 10;\r\n",
    "    \r\n",
    "    System.Console.WriteLine(\"(ref) After,  p = \" + p);\r\n",
    "\r\n",
    "    return p;\r\n",
    "}\r\n",
    "\r\n",
    "var i = 1;\r\n",
    "System.Console.WriteLine(\"Before, i = \" + i);\r\n",
    "var res = SomeIntFunction(ref i);\r\n",
    "System.Console.WriteLine(\"After,  i = \" + i);\r\n",
    "\r\n",
    "///\r\n",
    "System.Console.WriteLine();\r\n",
    "System.Console.WriteLine(\"////////////////////////////////////\");\r\n",
    "System.Console.WriteLine();\r\n",
    "///\r\n",
    "\r\n",
    "System.Console.WriteLine(\"Before,  res = \" + res);\r\n",
    "res = res * 5;\r\n",
    "System.Console.WriteLine(\"After,  res = \" + res);\r\n",
    "System.Console.WriteLine(\"After,  i = \" + i);"
   ],
   "outputs": [
    {
     "output_type": "stream",
     "name": "stdout",
     "text": [
      "Before, i = 1\r\n",
      "(ref) Before, p = 1\r\n",
      "(ref) After,  p = 10\r\n",
      "After,  i = 10\r\n",
      "\r\n",
      "////////////////////////////////////\r\n",
      "\r\n",
      "Before,  res = 10\r\n",
      "After,  res = 50\r\n",
      "After,  i = 10\r\n"
     ]
    }
   ],
   "metadata": {
    "dotnet_interactive": {
     "language": "csharp"
    }
   }
  },
  {
   "cell_type": "markdown",
   "source": [
    "## Reference types, with value type behaviour\r\n",
    "I .NET/C# finns det speciella typer, referensetyper, som beter sig som värdertyper. Exempel på detta är `string`. Samma \"flöde\" som i exemplet ovan visar string-typens värdetypsegenskaper genom att funktionens returvärde tilldelas en ny variabel, `res = ...`, som då INTE är samma instans som inparametern i."
   ],
   "metadata": {}
  },
  {
   "cell_type": "code",
   "execution_count": null,
   "source": [
    "public string SomeStringFunction(ref string p) \r\n",
    "{\r\n",
    "    System.Console.WriteLine(\"(ref) Before, p = \" + p);    \r\n",
    "    \r\n",
    "    p += \" added\";\r\n",
    "    \r\n",
    "    System.Console.WriteLine(\"(ref) After,  p = \" + p);\r\n",
    "\r\n",
    "    return p;\r\n",
    "}\r\n",
    "\r\n",
    "var i = \"The string\";\r\n",
    "System.Console.WriteLine(\"Before, i = \" + i);\r\n",
    "var res = SomeStringFunction(ref i);\r\n",
    "System.Console.WriteLine(\"After,  i = \" + i);\r\n",
    "\r\n",
    "///\r\n",
    "System.Console.WriteLine();\r\n",
    "System.Console.WriteLine(\"////////////////////////////////////\");\r\n",
    "System.Console.WriteLine();\r\n",
    "///\r\n",
    "\r\n",
    "System.Console.WriteLine(\"Before,  res = \" + res);\r\n",
    "res += \" added-outside-function\";\r\n",
    "System.Console.WriteLine(\"After,  res = \" + res);\r\n",
    "System.Console.WriteLine(\"After,  i = \" + i);"
   ],
   "outputs": [
    {
     "output_type": "stream",
     "name": "stdout",
     "text": [
      "Before, i = The string\r\n",
      "(ref) Before, p = The string\r\n",
      "(ref) After,  p = The string added\r\n",
      "After,  i = The string added\r\n",
      "\r\n",
      "////////////////////////////////////\r\n",
      "\r\n",
      "Before,  res = The string added\r\n",
      "After,  res = The string added added-outside-function\r\n",
      "After,  i = The string added\r\n"
     ]
    }
   ],
   "metadata": {
    "dotnet_interactive": {
     "language": "csharp"
    }
   }
  },
  {
   "cell_type": "markdown",
   "source": [
    "## Reference types, klasser/objekt\r\n",
    "Man kan även använda ref-nyckelordet på parametrar som är referenstyper. Detta kanske känns lite skumt eftersom en sådan paramteter alltid passas in som en referens. ref-nyckelordet får i det här fallet utfallet att funktionen faktiskt helt kan byta ut objektet som referensen pekar på.\r\n",
    "\r\n",
    "Exemplet nedan visar två olika funktioner som tar `Person` respektive `ref Person` som inparameter. Den senare gör alltså att man i tilldelningen `person = new Person(...)` kommer att byta objektet som person-parametern pekar på medan den övre funktionen kommer att allokera ett helt nytt objekt samtidigt som den \"yttre referensen\" lämnas opåverkad."
   ],
   "metadata": {}
  },
  {
   "cell_type": "code",
   "execution_count": null,
   "source": [
    "public class Person \r\n",
    "{\r\n",
    "    public string Name { get; }\r\n",
    "\r\n",
    "    public Person(string name)\r\n",
    "    {\r\n",
    "        Name = name;\r\n",
    "    }\r\n",
    "}\r\n",
    "\r\n",
    "public Person SomePersonFunction(Person person)\r\n",
    "{\r\n",
    "    System.Console.WriteLine(\"Before, person = \" + person.Name);    \r\n",
    "    person = new Person(\"Kalle\");\r\n",
    "    System.Console.WriteLine(\"After,  person name = \" + person.Name);  \r\n",
    "\r\n",
    "    return person;\r\n",
    "}\r\n",
    "\r\n",
    "public Person SomeOtherPersonFunction(ref Person person)\r\n",
    "{\r\n",
    "    System.Console.WriteLine(\"(ref) Before, person name = \" + person.Name);    \r\n",
    "    person = new Person(\"Kalle\");\r\n",
    "    System.Console.WriteLine(\"(ref) After,  person name = \" + person.Name);   \r\n",
    "\r\n",
    "    return person;\r\n",
    "}\r\n",
    "\r\n",
    "var p1 = new Person(\"Nisse\");\r\n",
    "System.Console.WriteLine(\"Before, p1 = \" + p1.Name);    \r\n",
    "\r\n",
    "var res1 = SomePersonFunction(p1);\r\n",
    "\r\n",
    "System.Console.WriteLine(\"After,  p1 = \" + p1.Name); \r\n",
    "System.Console.WriteLine(\"After,  res1 = \" + res1.Name); \r\n",
    "\r\n",
    "///\r\n",
    "System.Console.WriteLine();\r\n",
    "System.Console.WriteLine(\"////////////////////////////////////\");\r\n",
    "System.Console.WriteLine();\r\n",
    "///\r\n",
    "\r\n",
    "var p2 = new Person(\"Nisse\");\r\n",
    "System.Console.WriteLine(\"Before, p2 = \" + p2.Name);  \r\n",
    "\r\n",
    "var res2 = SomeOtherPersonFunction(ref p2);\r\n",
    "\r\n",
    "System.Console.WriteLine(\"After,  p2 = \" + p2.Name);\r\n",
    "System.Console.WriteLine(\"After,  res2 = \" + res2.Name);  "
   ],
   "outputs": [
    {
     "output_type": "stream",
     "name": "stdout",
     "text": [
      "Before, p1 = Nisse\r\n",
      "Before, person = Nisse\r\n",
      "After,  person name = Kalle\r\n",
      "After,  p1 = Nisse\r\n",
      "After,  res1 = Kalle\r\n",
      "\r\n",
      "////////////////////////////////////\r\n",
      "\r\n",
      "Before, p2 = Nisse\r\n",
      "(ref) Before, person name = Nisse\r\n",
      "(ref) After,  person name = Kalle\r\n",
      "After,  p2 = Kalle\r\n",
      "After,  res2 = Kalle\r\n"
     ]
    }
   ],
   "metadata": {
    "dotnet_interactive": {
     "language": "csharp"
    }
   }
  }
 ],
 "nbformat": 4,
 "nbformat_minor": 2
}