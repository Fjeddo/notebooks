{
  "cells": [
    {
      "cell_type": "markdown",
      "source": [
        "# Beskrivning\n",
        "I den här notebooken tänkte jag demonstrera parameter-nyckelordet `ref`, som man kan använda sig av i olika situationer. \n",
        "> Personligen tycker jag att det är på gränsen till en code smell att använda ref-nyckelordet. I vissa lägen kan det vara bra att använda för att t.ex. optimera minnesanvändning etc."
      ],
      "metadata": {}
    },
    {
      "cell_type": "markdown",
      "source": [
        "## Value types\n",
        "Exemplet nedan visar hur ref-nyckelordet påverkar hur **value types**, värdetyper, vid funktionsanrop. Funktionen `SomeIntFunction` tar in en ref till en integer, som är en värdetyp, den skriver ut värdet före multiplikation med 10 och sedan skriver den ut värdet efteråt.\n",
        "\n",
        "Nedanför funktionskroppen anropas funktionen med parametern `i = 1` och utskrift av i görs före och efter anropet.\n",
        "\n",
        "Funktionen returner ett heltal, värdet av p efter multiplikationen. Notera att returen är **värdet** av p och inte referensen. Detta gör att `var res = ...` tilldelas värdet av funktionen, helt skild från inparametern i."
      ],
      "metadata": {}
    },
    {
      "cell_type": "code",
      "execution_count": null,
      "source": [
        "public int SomeIntFunction(ref int p) \r\n",
        "{\r\n",
        "    System.Console.WriteLine(\"\\t(inside 'ref' function) Before multiplication, p = \" + p);    \r\n",
        "    \r\n",
        "    p = p * 10;\r\n",
        "    \r\n",
        "    System.Console.WriteLine(\"\\t(inside 'ref' function) After multiplication,  p = \" + p);\r\n",
        "\r\n",
        "    return p;\r\n",
        "}\r\n",
        "\r\n",
        "var i = 1;\r\n",
        "System.Console.WriteLine(\"Before function, i = \" + i);\r\n",
        "var res = SomeIntFunction(ref i);\r\n",
        "System.Console.WriteLine(\"After function,  i = \" + i);\r\n",
        "\r\n",
        "///\r\n",
        "System.Console.WriteLine();\r\n",
        "System.Console.WriteLine(\"////////////////////////////////////\");\r\n",
        "System.Console.WriteLine();\r\n",
        "///\r\n",
        "\r\n",
        "System.Console.WriteLine(\"Before, res = \" + res);\r\n",
        "res = res * 5;\r\n",
        "System.Console.WriteLine(\"After,  res = \" + res);\r\n",
        "System.Console.WriteLine(\"After,    i = \" + i);"
      ],
      "outputs": [
        {
          "output_type": "stream",
          "name": "stdout",
          "text": [
            "Before function, i = 1\r\n",
            "\t(inside 'ref' function) Before multiplication, p = 1\r\n",
            "\t(inside 'ref' function) After multiplication,  p = 10\r\n",
            "After function,  i = 10\r\n",
            "\r\n",
            "////////////////////////////////////\r\n",
            "\r\n",
            "Before, res = 10\r\n",
            "After,  res = 50\r\n",
            "After,    i = 10\r\n"
          ]
        }
      ],
      "metadata": {
        "dotnet_interactive": {
          "language": "csharp"
        }
      }
    },
    {
      "cell_type": "markdown",
      "source": [
        "## Reference types, with value type behaviour\n",
        "I .NET/C# finns det speciella typer, referensetyper, som beter sig som värdertyper. Exempel på detta är `string`. Samma \"flöde\" som i exemplet ovan visar string-typens värdetypsegenskaper genom att funktionens returvärde tilldelas en ny variabel, `res = ...`, som då INTE är samma instans som inparametern i."
      ],
      "metadata": {}
    },
    {
      "cell_type": "code",
      "execution_count": null,
      "source": [
        "public string SomeStringFunction(ref string p) \r\n",
        "{\r\n",
        "    System.Console.WriteLine(\"\\t(inside 'ref' function) Before add, p = \" + p);    \r\n",
        "    \r\n",
        "    p += \" added\";\r\n",
        "    \r\n",
        "    System.Console.WriteLine(\"\\t(inside 'ref' function) After add,  p = \" + p);\r\n",
        "\r\n",
        "    return p;\r\n",
        "}\r\n",
        "\r\n",
        "var i = \"The string\";\r\n",
        "System.Console.WriteLine(\"Before function, i = \" + i);\r\n",
        "var res = SomeStringFunction(ref i);\r\n",
        "System.Console.WriteLine(\"After function,  i = \" + i);\r\n",
        "\r\n",
        "///\r\n",
        "System.Console.WriteLine();\r\n",
        "System.Console.WriteLine(\"////////////////////////////////////\");\r\n",
        "System.Console.WriteLine();\r\n",
        "///\r\n",
        "\r\n",
        "System.Console.WriteLine(\"Before, res = \" + res);\r\n",
        "res += \" added-outside-function\";\r\n",
        "System.Console.WriteLine(\"After,  res = \" + res);\r\n",
        "System.Console.WriteLine(\"After,    i = \" + i);"
      ],
      "outputs": [
        {
          "output_type": "stream",
          "name": "stdout",
          "text": [
            "Before function, i = The string\r\n",
            "\t(inside 'ref' function) Before add, p = The string\r\n",
            "\t(inside 'ref' function) After add,  p = The string added\r\n",
            "After function,  i = The string added\r\n",
            "\r\n",
            "////////////////////////////////////\r\n",
            "\r\n",
            "Before, res = The string added\r\n",
            "After,  res = The string added added-outside-function\r\n",
            "After,    i = The string added\r\n"
          ]
        }
      ],
      "metadata": {
        "dotnet_interactive": {
          "language": "csharp"
        }
      }
    },
    {
      "cell_type": "markdown",
      "source": [
        "## Reference types, klasser/objekt\n",
        "Man kan även använda ref-nyckelordet på parametrar som är referenstyper. Detta kanske känns lite skumt eftersom en sådan paramteter alltid passas in som en referens. ref-nyckelordet får i det här fallet utfallet att funktionen faktiskt helt kan byta ut objektet som referensen pekar på.\n",
        "\n",
        "Exemplet nedan visar två olika funktioner som tar `Person` respektive `ref Person` som inparameter. Den senare gör alltså att man i tilldelningen `person = new Person(...)` kommer att byta objektet som person-parametern pekar på medan den övre funktionen kommer att allokera ett helt nytt objekt samtidigt som den \"yttre referensen\" lämnas opåverkad."
      ],
      "metadata": {}
    },
    {
      "cell_type": "code",
      "execution_count": null,
      "source": [
        "public class Person \n",
        "{\n",
        "    public string Name { get; }\n",
        "\n",
        "    public Person(string name)\n",
        "    {\n",
        "        Name = name;\n",
        "    }\n",
        "}\n",
        "\n",
        "public Person SomePersonFunction(Person person)\n",
        "{\n",
        "    System.Console.WriteLine(\"\\t(inside 'plain' function) Before new, person name = \" + person.Name);    \n",
        "    person = new Person(\"Kalle\");\n",
        "    System.Console.WriteLine(\"\\t(inside 'plain' function) After new,  person name = \" + person.Name);  \n",
        "\n",
        "    return person;\n",
        "}\n",
        "\n",
        "public Person SomeOtherPersonFunction(ref Person person)\n",
        "{\n",
        "    System.Console.WriteLine(\"\\t(inside 'ref' function) Before new, person name = \" + person.Name);    \n",
        "    person = new Person(\"Kalle\");\n",
        "    System.Console.WriteLine(\"\\t(inside 'ref' function) After new,  person name = \" + person.Name);   \n",
        "\n",
        "    return person;\n",
        "}\n",
        "\n",
        "var p1 = new Person(\"Nisse\");\n",
        "System.Console.WriteLine(\"Before 'plain' function,  p1 = \" + p1.Name);    \n",
        "\n",
        "var res1 = SomePersonFunction(p1);\n",
        "\n",
        "System.Console.WriteLine(\"After 'plain' function,   p1 = \" + p1.Name); \n",
        "System.Console.WriteLine(\"After 'plain' function, res1 = \" + res1.Name); \n",
        "\n",
        "///\n",
        "System.Console.WriteLine();\n",
        "System.Console.WriteLine(\"////////////////////////////////////\");\n",
        "System.Console.WriteLine();\n",
        "///\n",
        "\n",
        "var p2 = new Person(\"Nisse\");\n",
        "System.Console.WriteLine(\"Before 'ref' function,  p2 = \" + p2.Name);  \n",
        "\n",
        "var res2 = SomeOtherPersonFunction(ref p2);\n",
        "\n",
        "System.Console.WriteLine(\"After 'ref' function,   p2 = \" + p2.Name);\n",
        "System.Console.WriteLine(\"After 'ref' function, res2 = \" + res2.Name);  "
      ],
      "outputs": [
        {
          "output_type": "stream",
          "name": "stdout",
          "text": [
            "Before 'plain' function,  p1 = Nisse\r\n",
            "\t(inside 'plain' function) Before new, person name = Nisse\r\n",
            "\t(inside 'plain' function) After new,  person name = Kalle\r\n",
            "After 'plain' function,   p1 = Nisse\r\n",
            "After 'plain' function, res1 = Kalle\r\n",
            "\r\n",
            "////////////////////////////////////\r\n",
            "\r\n",
            "Before 'ref' function,  p2 = Nisse\r\n",
            "\t(inside 'ref' function) Before new, person name = Nisse\r\n",
            "\t(inside 'ref' function) After new,  person name = Kalle\r\n",
            "After 'ref' function,   p2 = Kalle\r\n",
            "After 'ref' function, res2 = Kalle\r\n"
          ]
        }
      ],
      "metadata": {
        "dotnet_interactive": {
          "language": "csharp"
        }
      }
    }
  ],
  "metadata": {
    "kernelspec": {
      "display_name": ".NET (C#)",
      "language": "C#",
      "name": ".net-csharp"
    },
    "language_info": {
      "file_extension": ".cs",
      "mimetype": "text/x-csharp",
      "name": "C#",
      "pygments_lexer": "csharp",
      "version": "8.0"
    }
  },
  "nbformat": 4,
  "nbformat_minor": 4
}